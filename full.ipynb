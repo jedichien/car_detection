{
 "cells": [
  {
   "cell_type": "code",
   "execution_count": 1,
   "metadata": {},
   "outputs": [
    {
     "name": "stderr",
     "output_type": "stream",
     "text": [
      "Using TensorFlow backend.\n"
     ]
    }
   ],
   "source": [
    "%matplotlib inline\n",
    "from __future__ import print_function\n",
    "import matplotlib.pyplot as plt\n",
    "import matplotlib.image as mpimg\n",
    "import cv2\n",
    "import numpy as np\n",
    "import os\n",
    "import io\n",
    "import scipy.io\n",
    "\n",
    "import ssd_m as ssd"
   ]
  },
  {
   "cell_type": "markdown",
   "metadata": {},
   "source": [
    "# Reuse Pretrained Model\n",
    "\n",
    "I reuse the pretraining model, expanding number of classification to 196.\n",
    "Firstly I load weights to original model and then extract the fourth layer of convolution which can detect contour well.\n",
    "Secondly, for convenient, I modulize model into pieces of function, so can be easily adjusted to different dataset. "
   ]
  },
  {
   "cell_type": "code",
   "execution_count": 2,
   "metadata": {
    "collapsed": true
   },
   "outputs": [],
   "source": [
    "num_classes = 197\n",
    "img_size = (300, 300)"
   ]
  },
  {
   "cell_type": "markdown",
   "metadata": {},
   "source": [
    "ssd model only need 6 layers to form which is for different purpose."
   ]
  },
  {
   "cell_type": "code",
   "execution_count": 3,
   "metadata": {
    "collapsed": true
   },
   "outputs": [],
   "source": [
    "# ssd300 = SSD300((300, 300, 3), 21).model()\n",
    "ssd300 = ssd.default_model()\n",
    "ssd300.load_weights('weights_SSD300.hdf5')\n",
    "\n",
    "_input = ssd300.get_layer('input').output\n",
    "_conv4_3_norm = ssd300.get_layer('conv4_3_norm').output\n",
    "_fc7 = ssd300.get_layer('fc7').output\n",
    "_conv6_2 = ssd300.get_layer('conv6_2').output\n",
    "_conv7_2 = ssd300.get_layer('conv7_2').output\n",
    "_conv8_2 = ssd300.get_layer('conv8_2').output\n",
    "_pool6 = ssd300.get_layer('pool6').output"
   ]
  },
  {
   "cell_type": "markdown",
   "metadata": {},
   "source": [
    "consolidate aforementioned layers into new model we want"
   ]
  },
  {
   "cell_type": "code",
   "execution_count": 4,
   "metadata": {
    "collapsed": true
   },
   "outputs": [],
   "source": [
    "ssd_loc_layer = ssd.ssd_loc_layer(_conv4_3_norm, _fc7, _conv6_2, _conv7_2, _conv8_2, _pool6)\n",
    "ssd_conf_layer = ssd.ssd_conf_layer(num_classes, _conv4_3_norm, _fc7, _conv6_2, _conv7_2, _conv8_2, _pool6)\n",
    "ssd_prior_box_layer = ssd.ssd_prior_box_layer(img_size, _conv4_3_norm, _fc7, _conv6_2, _conv7_2, _conv8_2, _pool6)\n",
    "\n",
    "model = ssd.model(num_classes, _input, ssd_loc_layer, ssd_conf_layer, ssd_prior_box_layer)"
   ]
  },
  {
   "cell_type": "code",
   "execution_count": 5,
   "metadata": {},
   "outputs": [
    {
     "name": "stdout",
     "output_type": "stream",
     "text": [
      "__________________________________________________________________________________________________\n",
      "Layer (type)                    Output Shape         Param #     Connected to                     \n",
      "==================================================================================================\n",
      "input (InputLayer)              (None, 300, 300, 3)  0                                            \n",
      "__________________________________________________________________________________________________\n",
      "conv1_1 (Conv2D)                (None, 300, 300, 64) 1792        input[0][0]                      \n",
      "__________________________________________________________________________________________________\n",
      "conv1_2 (Conv2D)                (None, 300, 300, 64) 36928       conv1_1[0][0]                    \n",
      "__________________________________________________________________________________________________\n",
      "pool1 (MaxPooling2D)            (None, 150, 150, 64) 0           conv1_2[0][0]                    \n",
      "__________________________________________________________________________________________________\n",
      "conv2_1 (Conv2D)                (None, 150, 150, 128 73856       pool1[0][0]                      \n",
      "__________________________________________________________________________________________________\n",
      "conv2_2 (Conv2D)                (None, 150, 150, 128 147584      conv2_1[0][0]                    \n",
      "__________________________________________________________________________________________________\n",
      "pool2 (MaxPooling2D)            (None, 75, 75, 128)  0           conv2_2[0][0]                    \n",
      "__________________________________________________________________________________________________\n",
      "conv3_1 (Conv2D)                (None, 75, 75, 256)  295168      pool2[0][0]                      \n",
      "__________________________________________________________________________________________________\n",
      "conv3_2 (Conv2D)                (None, 75, 75, 256)  590080      conv3_1[0][0]                    \n",
      "__________________________________________________________________________________________________\n",
      "conv3_3 (Conv2D)                (None, 75, 75, 256)  590080      conv3_2[0][0]                    \n",
      "__________________________________________________________________________________________________\n",
      "pool3 (MaxPooling2D)            (None, 38, 38, 256)  0           conv3_3[0][0]                    \n",
      "__________________________________________________________________________________________________\n",
      "conv4_1 (Conv2D)                (None, 38, 38, 512)  1180160     pool3[0][0]                      \n",
      "__________________________________________________________________________________________________\n",
      "conv4_2 (Conv2D)                (None, 38, 38, 512)  2359808     conv4_1[0][0]                    \n",
      "__________________________________________________________________________________________________\n",
      "conv4_3 (Conv2D)                (None, 38, 38, 512)  2359808     conv4_2[0][0]                    \n",
      "__________________________________________________________________________________________________\n",
      "pool4 (MaxPooling2D)            (None, 19, 19, 512)  0           conv4_3[0][0]                    \n",
      "__________________________________________________________________________________________________\n",
      "conv5_1 (Conv2D)                (None, 19, 19, 512)  2359808     pool4[0][0]                      \n",
      "__________________________________________________________________________________________________\n",
      "conv5_2 (Conv2D)                (None, 19, 19, 512)  2359808     conv5_1[0][0]                    \n",
      "__________________________________________________________________________________________________\n",
      "conv5_3 (Conv2D)                (None, 19, 19, 512)  2359808     conv5_2[0][0]                    \n",
      "__________________________________________________________________________________________________\n",
      "pool5 (MaxPooling2D)            (None, 19, 19, 512)  0           conv5_3[0][0]                    \n",
      "__________________________________________________________________________________________________\n",
      "fc6 (Conv2D)                    (None, 19, 19, 1024) 4719616     pool5[0][0]                      \n",
      "__________________________________________________________________________________________________\n",
      "fc7 (Conv2D)                    (None, 19, 19, 1024) 1049600     fc6[0][0]                        \n",
      "__________________________________________________________________________________________________\n",
      "conv6_1 (Conv2D)                (None, 19, 19, 256)  262400      fc7[0][0]                        \n",
      "__________________________________________________________________________________________________\n",
      "conv6_2 (Conv2D)                (None, 10, 10, 512)  1180160     conv6_1[0][0]                    \n",
      "__________________________________________________________________________________________________\n",
      "conv7_1 (Conv2D)                (None, 10, 10, 128)  65664       conv6_2[0][0]                    \n",
      "__________________________________________________________________________________________________\n",
      "conv7_1z (ZeroPadding2D)        (None, 12, 12, 128)  0           conv7_1[0][0]                    \n",
      "__________________________________________________________________________________________________\n",
      "conv7_2 (Conv2D)                (None, 5, 5, 256)    295168      conv7_1z[0][0]                   \n",
      "__________________________________________________________________________________________________\n",
      "conv8_1 (Conv2D)                (None, 5, 5, 128)    32896       conv7_2[0][0]                    \n",
      "__________________________________________________________________________________________________\n",
      "conv4_3_norm (Normalize)        (None, 38, 38, 512)  512         conv4_3[0][0]                    \n",
      "__________________________________________________________________________________________________\n",
      "conv8_2 (Conv2D)                (None, 3, 3, 256)    295168      conv8_1[0][0]                    \n",
      "__________________________________________________________________________________________________\n",
      "pool6 (GlobalAveragePooling2D)  (None, 256)          0           conv8_2[0][0]                    \n",
      "__________________________________________________________________________________________________\n",
      "conv4_3_norm_mbox_conf (Conv2D) (None, 38, 38, 591)  2723919     conv4_3_norm[0][0]               \n",
      "__________________________________________________________________________________________________\n",
      "fc7_mbox_conf (Conv2D)          (None, 19, 19, 1182) 10894494    fc7[0][0]                        \n",
      "__________________________________________________________________________________________________\n",
      "conv6_2_mbox_conf (Conv2D)      (None, 10, 10, 1182) 5447838     conv6_2[0][0]                    \n",
      "__________________________________________________________________________________________________\n",
      "conv7_2_mbox_conf (Conv2D)      (None, 5, 5, 1182)   2724510     conv7_2[0][0]                    \n",
      "__________________________________________________________________________________________________\n",
      "conv8_2_mbox_conf (Conv2D)      (None, 3, 3, 1182)   2724510     conv8_2[0][0]                    \n",
      "__________________________________________________________________________________________________\n",
      "conv4_3_norm_mbox_loc (Conv2D)  (None, 38, 38, 12)   55308       conv4_3_norm[0][0]               \n",
      "__________________________________________________________________________________________________\n",
      "fc7_mbox_loc (Conv2D)           (None, 19, 19, 24)   221208      fc7[0][0]                        \n",
      "__________________________________________________________________________________________________\n",
      "conv6_2_mbox_loc (Conv2D)       (None, 10, 10, 24)   110616      conv6_2[0][0]                    \n",
      "__________________________________________________________________________________________________\n",
      "conv7_2_mbox_loc (Conv2D)       (None, 5, 5, 24)     55320       conv7_2[0][0]                    \n",
      "__________________________________________________________________________________________________\n",
      "conv8_2_mbox_loc (Conv2D)       (None, 3, 3, 24)     55320       conv8_2[0][0]                    \n",
      "__________________________________________________________________________________________________\n",
      "conv4_3_norm_mbox_conf_flat (Fl (None, 853404)       0           conv4_3_norm_mbox_conf[0][0]     \n",
      "__________________________________________________________________________________________________\n",
      "fc7_mbox_conf_flat (Flatten)    (None, 426702)       0           fc7_mbox_conf[0][0]              \n",
      "__________________________________________________________________________________________________\n",
      "conv6_2_mbox_conf_flat (Flatten (None, 118200)       0           conv6_2_mbox_conf[0][0]          \n",
      "__________________________________________________________________________________________________\n",
      "conv7_2_mbox_conf_flat (Flatten (None, 29550)        0           conv7_2_mbox_conf[0][0]          \n",
      "__________________________________________________________________________________________________\n",
      "conv8_2_mbox_conf_flat (Flatten (None, 10638)        0           conv8_2_mbox_conf[0][0]          \n",
      "__________________________________________________________________________________________________\n",
      "pool6_mbox_conf_flat (Dense)    (None, 1182)         303774      pool6[0][0]                      \n",
      "__________________________________________________________________________________________________\n",
      "conv4_3_norm_mbox_loc_flat (Fla (None, 17328)        0           conv4_3_norm_mbox_loc[0][0]      \n",
      "__________________________________________________________________________________________________\n",
      "fc7_mbox_loc_flat (Flatten)     (None, 8664)         0           fc7_mbox_loc[0][0]               \n",
      "__________________________________________________________________________________________________\n",
      "conv6_2_mbox_loc_flat (Flatten) (None, 2400)         0           conv6_2_mbox_loc[0][0]           \n",
      "__________________________________________________________________________________________________\n",
      "conv7_2_mbox_loc_flat (Flatten) (None, 600)          0           conv7_2_mbox_loc[0][0]           \n",
      "__________________________________________________________________________________________________\n",
      "conv8_2_mbox_loc_flat (Flatten) (None, 216)          0           conv8_2_mbox_loc[0][0]           \n",
      "__________________________________________________________________________________________________\n",
      "pool6_mbox_loc_flat (Dense)     (None, 24)           6168        pool6[0][0]                      \n",
      "__________________________________________________________________________________________________\n",
      "mbox_conf (Concatenate)         (None, 1439676)      0           conv4_3_norm_mbox_conf_flat[0][0]\n",
      "                                                                 fc7_mbox_conf_flat[0][0]         \n",
      "                                                                 conv6_2_mbox_conf_flat[0][0]     \n",
      "                                                                 conv7_2_mbox_conf_flat[0][0]     \n",
      "                                                                 conv8_2_mbox_conf_flat[0][0]     \n",
      "                                                                 pool6_mbox_conf_flat[0][0]       \n",
      "__________________________________________________________________________________________________\n",
      "pool6_reshaped (Reshape)        (None, 1, 1, 256)    0           pool6[0][0]                      \n",
      "__________________________________________________________________________________________________\n",
      "mbox_loc (Concatenate)          (None, 29232)        0           conv4_3_norm_mbox_loc_flat[0][0] \n",
      "                                                                 fc7_mbox_loc_flat[0][0]          \n",
      "                                                                 conv6_2_mbox_loc_flat[0][0]      \n",
      "                                                                 conv7_2_mbox_loc_flat[0][0]      \n",
      "                                                                 conv8_2_mbox_loc_flat[0][0]      \n",
      "                                                                 pool6_mbox_loc_flat[0][0]        \n",
      "__________________________________________________________________________________________________\n",
      "mbox_conf_logits (Reshape)      (None, 7308, 197)    0           mbox_conf[0][0]                  \n",
      "__________________________________________________________________________________________________\n",
      "conv4_3_norm_mbox_priorbox (Pri (None, 4332, 8)      0           conv4_3_norm[0][0]               \n",
      "__________________________________________________________________________________________________\n",
      "fc7_mbox_priorbox (PriorBox)    (None, 2166, 8)      0           fc7[0][0]                        \n",
      "__________________________________________________________________________________________________\n",
      "conv6_2_mbox_priorbox (PriorBox (None, 600, 8)       0           conv6_2[0][0]                    \n",
      "__________________________________________________________________________________________________\n",
      "conv7_2_mbox_priorbox (PriorBox (None, 150, 8)       0           conv7_2[0][0]                    \n",
      "__________________________________________________________________________________________________\n",
      "conv8_2_mbox_priorbox (PriorBox (None, 54, 8)        0           conv8_2[0][0]                    \n",
      "__________________________________________________________________________________________________\n",
      "pool6_mbox_priorbox (PriorBox)  (None, 6, 8)         0           pool6_reshaped[0][0]             \n",
      "__________________________________________________________________________________________________\n",
      "mbox_loc_final (Reshape)        (None, 7308, 4)      0           mbox_loc[0][0]                   \n",
      "__________________________________________________________________________________________________\n",
      "mbox_conf_final (Activation)    (None, 7308, 197)    0           mbox_conf_logits[0][0]           \n",
      "__________________________________________________________________________________________________\n",
      "mbox_priorbox (Concatenate)     (None, 7308, 8)      0           conv4_3_norm_mbox_priorbox[0][0] \n",
      "                                                                 fc7_mbox_priorbox[0][0]          \n",
      "                                                                 conv6_2_mbox_priorbox[0][0]      \n",
      "                                                                 conv7_2_mbox_priorbox[0][0]      \n",
      "                                                                 conv8_2_mbox_priorbox[0][0]      \n",
      "                                                                 pool6_mbox_priorbox[0][0]        \n",
      "__________________________________________________________________________________________________\n",
      "predictions (Concatenate)       (None, 7308, 209)    0           mbox_loc_final[0][0]             \n",
      "                                                                 mbox_conf_final[0][0]            \n",
      "                                                                 mbox_priorbox[0][0]              \n",
      "==================================================================================================\n",
      "Total params: 47,938,857\n",
      "Trainable params: 47,938,857\n",
      "Non-trainable params: 0\n",
      "__________________________________________________________________________________________________\n"
     ]
    }
   ],
   "source": [
    "model.summary()"
   ]
  },
  {
   "cell_type": "markdown",
   "metadata": {},
   "source": [
    "### Data preprocessing\n",
    "Lengthy work..."
   ]
  },
  {
   "cell_type": "code",
   "execution_count": 6,
   "metadata": {},
   "outputs": [
    {
     "name": "stdout",
     "output_type": "stream",
     "text": [
      "image size: (300, 300)\n",
      "number of classes: 196\n",
      "number of training set: 8144\n"
     ]
    }
   ],
   "source": [
    "batch_size = 1\n",
    "\n",
    "path_imgs_train = os.path.join('data', 'cars_train')\n",
    "\n",
    "annotation_train = scipy.io.loadmat('data/devkit/cars_train_annos.mat')\n",
    "\n",
    "meta = scipy.io.loadmat('data/devkit/cars_meta.mat')\n",
    "\n",
    "cls_name = meta['class_names'][0]\n",
    "annotation_train = annotation_train['annotations'][0]\n",
    "\n",
    "n_cls = cls_name.shape[0]\n",
    "\n",
    "print(\"image size: {}\".format(img_size))\n",
    "print(\"number of classes: {}\".format(n_cls))\n",
    "print(\"number of training set: {}\".format(annotation_train.shape[0]))"
   ]
  },
  {
   "cell_type": "markdown",
   "metadata": {},
   "source": [
    "lets check the distribution in our dataset"
   ]
  },
  {
   "cell_type": "code",
   "execution_count": 7,
   "metadata": {},
   "outputs": [
    {
     "data": {
      "image/png": "[encoded data removed]",
      "text/plain": [
       "<matplotlib.figure.Figure at 0x7fed43998b50>"
      ]
     },
     "metadata": {},
     "output_type": "display_data"
    }
   ],
   "source": [
    "def histogram_brand(annotation):\n",
    "    brands = np.array([brand for brand in [raw[-2] for raw in annotation] ])\n",
    "    plt.hist(brands.ravel(), density=False, color='#117711', alpha=0.7)\n",
    "    plt.suptitle('Distribution of classes')\n",
    "    plt.show()\n",
    "    \n",
    "histogram_brand(annotation_train)"
   ]
  },
  {
   "cell_type": "markdown",
   "metadata": {},
   "source": [
    "Annotaion contains data information included [xmin, ymin, xmax, ymax, label, image_path]."
   ]
  },
  {
   "cell_type": "code",
   "execution_count": 8,
   "metadata": {
    "collapsed": true
   },
   "outputs": [],
   "source": [
    "def unfold_annotation(annotation, dir_imgs, n_cls, img_size):\n",
    "    bboxes = []\n",
    "    uris = []\n",
    "    cls_list = []\n",
    "    \n",
    "    def _process(annotation, dir_img, n_cls, img_size):\n",
    "        n_obj = annotation[-2].shape[0]\n",
    "        uri = os.path.join(dir_img, annotation[5][0])\n",
    "        bbox = []\n",
    "        cls_list = []\n",
    "        for obj_id in range(n_obj):\n",
    "            _xmin = float(annotation[0][obj_id][0])/img_size[1]\n",
    "            _ymin = float(annotation[1][obj_id][0])/img_size[0]\n",
    "            _xmax = float(annotation[2][obj_id][0])/img_size[1]\n",
    "            _ymax = float(annotation[3][obj_id][0])/img_size[0]\n",
    "            _cls_id = int(annotation[4][obj_id][0])\n",
    "            cls = np.zeros((n_cls,))\n",
    "            cls[_cls_id-1] = 1\n",
    "            bbox.append([_xmin, _ymin, _xmax, _ymax])\n",
    "            cls_list.append(cls)\n",
    "        \n",
    "        return np.array(bbox), uri, cls_list\n",
    "    \n",
    "    for ann in annotation:\n",
    "        _box, _uri, _cls_list = _process(ann, dir_imgs, n_cls, img_size)\n",
    "        bboxes.append(_box)\n",
    "        uris.append(_uri)\n",
    "        cls_list.append(_cls_list)\n",
    "    \n",
    "    return np.array(bboxes, dtype=np.float32), np.array(uris, dtype=np.str), np.array(cls_list, dtype=np.uint8)"
   ]
  },
  {
   "cell_type": "code",
   "execution_count": 9,
   "metadata": {},
   "outputs": [
    {
     "name": "stdout",
     "output_type": "stream",
     "text": [
      "Shape of training boxes: (8144, 1, 4)\n",
      "Shape of training uri: (8144,)\n",
      "Shape of training class: (8144, 1, 196)\n"
     ]
    }
   ],
   "source": [
    "bboxes_train, uris_train, cls_train = unfold_annotation(annotation_train, path_imgs_train, n_cls, img_size)\n",
    "print(\"Shape of training boxes: {}\".format(bboxes_train.shape))\n",
    "print(\"Shape of training uri: {}\".format(uris_train.shape))\n",
    "print(\"Shape of training class: {}\".format(cls_train.shape))"
   ]
  },
  {
   "cell_type": "markdown",
   "metadata": {},
   "source": [
    "Loading predefined prior bbox data from packle, because SSD use pyramid projection to train and destruct prediction to original position."
   ]
  },
  {
   "cell_type": "code",
   "execution_count": 10,
   "metadata": {},
   "outputs": [
    {
     "name": "stdout",
     "output_type": "stream",
     "text": [
      "sample boxes shape: (7308, 209)\n"
     ]
    }
   ],
   "source": [
    "from ssd_utils import BBoxUtility\n",
    "import pickle\n",
    "\n",
    "priors = pickle.load(open('prior_boxes_ssd300.pkl', 'rb'))\n",
    "bbox_util = BBoxUtility(n_cls+1, priors=priors)\n",
    "\n",
    "# test\n",
    "_test = bbox_util.assign_boxes(np.concatenate((bboxes_train[0:5][0], cls_train[0:5][0]), axis=1))\n",
    "print(\"sample boxes shape: {}\".format(_test.shape))"
   ]
  },
  {
   "cell_type": "code",
   "execution_count": 11,
   "metadata": {},
   "outputs": [
    {
     "name": "stdout",
     "output_type": "stream",
     "text": [
      "Size of training set: 6515\n",
      "Size of validating set: 1629\n"
     ]
    }
   ],
   "source": [
    "from utils.generate_data import Generator\n",
    "\n",
    "total = float(uris_train.shape[0])\n",
    "ratio = 0.8\n",
    "size = int(total*ratio)\n",
    "\n",
    "train = uris_train[:size], cls_train[:size], bboxes_train[:size]\n",
    "test = uris_train[size:], cls_train[size:], bboxes_train[size:]\n",
    "\n",
    "generator = Generator(train, test, bbox_util, batch_size=batch_size)\n",
    "print(\"Size of training set: {}\".format(size))\n",
    "print(\"Size of validating set: {}\".format(int(total-size)))"
   ]
  },
  {
   "cell_type": "code",
   "execution_count": 12,
   "metadata": {
    "collapsed": true
   },
   "outputs": [],
   "source": [
    "# prevent to affect pretrained weights\n",
    "def frozen_layers(model):\n",
    "    freeze_layers = [\n",
    "        'input', 'conv1_1', 'conv1_2', 'pool1',\n",
    "        'conv2_1', 'conv2_2', 'pool2',\n",
    "        'conv3_1', 'conv3_2', 'conv3_3', 'pool3'\n",
    "    ]\n",
    "    for layer in model.layers:\n",
    "        if layer.name in freeze_layers:\n",
    "            layer.trainable = False\n",
    "\n",
    "frozen_layers(model)"
   ]
  },
  {
   "cell_type": "markdown",
   "metadata": {},
   "source": [
    "### Happy time: training"
   ]
  },
  {
   "cell_type": "code",
   "execution_count": 13,
   "metadata": {
    "collapsed": true
   },
   "outputs": [],
   "source": [
    "import keras\n",
    "\n",
    "# gradually decreased learning rate\n",
    "def schedule(epoch, decay=0.9):\n",
    "    return base_lr * decay**(epoch)\n",
    "\n",
    "# periodically store weights\n",
    "if not os.path.exists('checkpoints'):\n",
    "    os.makedirs('checkpoints')\n",
    "\n",
    "callbacks = [keras.callbacks.ModelCheckpoint('./checkpoints/weights.{epoch:02d}-{val_loss:.2f}.ckpt',\n",
    "                                             verbose=1,\n",
    "                                             save_weights_only=True),\n",
    "             keras.callbacks.LearningRateScheduler(schedule)]"
   ]
  },
  {
   "cell_type": "code",
   "execution_count": null,
   "metadata": {},
   "outputs": [
    {
     "name": "stdout",
     "output_type": "stream",
     "text": [
      "Epoch 1/30\n",
      "499/500 [============================>.] - ETA: 0s - loss: 1.8703Epoch 00001: saving model to ./checkpoints/weights.01-18.48.ckpt\n",
      "500/500 [==============================] - 129s 257ms/step - loss: 1.8915 - val_loss: 18.4774\n",
      "Epoch 2/30\n",
      "499/500 [============================>.] - ETA: 0s - loss: 1.7851Epoch 00002: saving model to ./checkpoints/weights.02-16.71.ckpt\n",
      "500/500 [==============================] - 128s 255ms/step - loss: 1.7818 - val_loss: 16.7136\n",
      "Epoch 3/30\n",
      "499/500 [============================>.] - ETA: 0s - loss: 1.7822Epoch 00003: saving model to ./checkpoints/weights.03-14.17.ckpt\n",
      "500/500 [==============================] - 128s 255ms/step - loss: 1.7849 - val_loss: 14.1734\n",
      "Epoch 4/30\n",
      "368/500 [=====================>........] - ETA: 32s - loss: 1.4582"
     ]
    }
   ],
   "source": [
    "from ssd_training import MultiboxLoss\n",
    "# load pretrain\n",
    "model.load_weights('checkpoints/weights.30-26.35.hdf5')\n",
    "\n",
    "# loss function and optimiser\n",
    "base_lr = 3e-4\n",
    "optim = keras.optimizers.Adam(lr=base_lr)\n",
    "model.compile(optimizer=optim,\n",
    "              loss=MultiboxLoss(n_cls+1, neg_pos_ratio=2.0).compute_loss)\n",
    "\n",
    "nb_epoch = 30\n",
    "g_train = generator.generate(train=True)\n",
    "g_test = generator.generate(train=False)\n",
    "history = model.fit_generator(generator=g_train, steps_per_epoch=500,\n",
    "                              epochs=nb_epoch, verbose=1, callbacks=callbacks,\n",
    "                              validation_data=g_test, validation_steps=50)"
   ]
  },
  {
   "cell_type": "code",
   "execution_count": null,
   "metadata": {
    "collapsed": true
   },
   "outputs": [],
   "source": [
    "# from utils import demo\n",
    "\n",
    "# demo.demo(model, 'data/cars_test/07657.jpg', bbox_util)"
   ]
  }
 ],
 "metadata": {
  "kernelspec": {
   "display_name": "Python 2",
   "language": "python",
   "name": "python2"
  },
  "language_info": {
   "codemirror_mode": {
    "name": "ipython",
    "version": 2
   },
   "file_extension": ".py",
   "mimetype": "text/x-python",
   "name": "python",
   "nbconvert_exporter": "python",
   "pygments_lexer": "ipython2",
   "version": "2.7.14"
  }
 },
 "nbformat": 4,
 "nbformat_minor": 2
}
